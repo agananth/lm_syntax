{
 "cells": [
  {
   "cell_type": "code",
   "execution_count": 5,
   "metadata": {},
   "outputs": [],
   "source": [
    "from torch.utils.data import DataLoader\n",
    "import dataset\n",
    "import utils\n",
    "\n",
    "import dataclasses\n",
    "from collections.abc import Sequence, Mapping\n",
    "\n",
    "@dataclasses.dataclass\n",
    "class DepParseDataPickle:\n",
    "    input_strs: Sequence[str]\n",
    "    dev_data: Sequence[Mapping[str, str]]"
   ]
  },
  {
   "cell_type": "code",
   "execution_count": 28,
   "metadata": {},
   "outputs": [
    {
     "data": {
      "application/vnd.jupyter.widget-view+json": {
       "model_id": "9f2e32e4bbc546cd95532eefb9c99eb2",
       "version_major": 2,
       "version_minor": 0
      },
      "text/plain": [
       "Loading checkpoint shards:   0%|          | 0/2 [00:00<?, ?it/s]"
      ]
     },
     "metadata": {},
     "output_type": "display_data"
    },
    {
     "ename": "AssertionError",
     "evalue": "",
     "output_type": "error",
     "traceback": [
      "\u001b[0;31m---------------------------------------------------------------------------\u001b[0m",
      "\u001b[0;31mAssertionError\u001b[0m                            Traceback (most recent call last)",
      "Cell \u001b[0;32mIn[28], line 17\u001b[0m\n\u001b[1;32m     14\u001b[0m hidden_size \u001b[38;5;241m=\u001b[39m model\u001b[38;5;241m.\u001b[39mconfig\u001b[38;5;241m.\u001b[39mhidden_size\n\u001b[1;32m     15\u001b[0m num_layers \u001b[38;5;241m=\u001b[39m model\u001b[38;5;241m.\u001b[39mconfig\u001b[38;5;241m.\u001b[39mnum_hidden_layers\n\u001b[0;32m---> 17\u001b[0m root_hidden_state \u001b[38;5;241m=\u001b[39m \u001b[43mutils\u001b[49m\u001b[38;5;241;43m.\u001b[39;49m\u001b[43mget_word_hidden_states\u001b[49m\u001b[43m(\u001b[49m\n\u001b[1;32m     18\u001b[0m \u001b[43m        \u001b[49m\u001b[43m[\u001b[49m\u001b[38;5;124;43m\"\u001b[39;49m\u001b[38;5;124;43mROOT\u001b[39;49m\u001b[38;5;124;43m\"\u001b[39;49m\u001b[43m]\u001b[49m\u001b[43m,\u001b[49m\u001b[43m \u001b[49m\u001b[43mtokenizer\u001b[49m\u001b[43m,\u001b[49m\u001b[43m \u001b[49m\u001b[43mmodel\u001b[49m\n\u001b[1;32m     19\u001b[0m \u001b[43m    \u001b[49m\u001b[43m)\u001b[49m[\u001b[38;5;241m0\u001b[39m]\n\u001b[1;32m     20\u001b[0m root_hidden_state \u001b[38;5;241m=\u001b[39m torch\u001b[38;5;241m.\u001b[39mcat(root_hidden_state, dim\u001b[38;5;241m=\u001b[39m\u001b[38;5;241m0\u001b[39m)\u001b[38;5;241m.\u001b[39munsqueeze(\u001b[38;5;241m1\u001b[39m)\n\u001b[1;32m     21\u001b[0m \u001b[38;5;28;01massert\u001b[39;00m root_hidden_state\u001b[38;5;241m.\u001b[39mshape \u001b[38;5;241m==\u001b[39m (num_layers, \u001b[38;5;241m1\u001b[39m, hidden_size)\n",
      "File \u001b[0;32m/juice2/u/ananthag/lm_syntax/utils.py:121\u001b[0m, in \u001b[0;36mget_word_hidden_states\u001b[0;34m(input_batch, tokenizer, model)\u001b[0m\n\u001b[1;32m    119\u001b[0m idxs \u001b[38;5;241m=\u001b[39m get_pre_tokenized_info(tokenizer, input_s)\n\u001b[1;32m    120\u001b[0m num_words \u001b[38;5;241m=\u001b[39m \u001b[38;5;28mlen\u001b[39m(input_s\u001b[38;5;241m.\u001b[39msplit(\u001b[38;5;124m\"\u001b[39m\u001b[38;5;124m \u001b[39m\u001b[38;5;124m\"\u001b[39m))\n\u001b[0;32m--> 121\u001b[0m \u001b[38;5;28;01massert\u001b[39;00m num_words \u001b[38;5;241m==\u001b[39m \u001b[38;5;28mlen\u001b[39m(idxs)\n\u001b[1;32m    122\u001b[0m word_hs_combined_from_tokens \u001b[38;5;241m=\u001b[39m []\n\u001b[1;32m    123\u001b[0m \u001b[38;5;28;01mfor\u001b[39;00m layer \u001b[38;5;129;01min\u001b[39;00m \u001b[38;5;28mrange\u001b[39m(num_layers):\n",
      "\u001b[0;31mAssertionError\u001b[0m: "
     ]
    }
   ],
   "source": [
    "from transformers import AutoConfig\n",
    "from einops import rearrange\n",
    "import cache_hidden_states\n",
    "import torch\n",
    "import utils\n",
    "import torch.nn.functional as F\n",
    "from sklearn.metrics import f1_score, accuracy_score\n",
    "from sklearn.metrics.pairwise import cosine_similarity\n",
    "\n",
    "\n",
    "for model_name in ['google/gemma-2b']:\n",
    "    model = utils.get_model(model_name)\n",
    "    tokenizer = utils.get_tokenizer(model_name)\n",
    "    hidden_size = model.config.hidden_size\n",
    "    num_layers = model.config.num_hidden_layers\n",
    "\n",
    "    root_hidden_state = utils.get_word_hidden_states(\n",
    "            [\"ROOT\"], tokenizer, model\n",
    "        )[0]\n",
    "    root_hidden_state = torch.cat(root_hidden_state, dim=0).unsqueeze(1)\n",
    "    assert root_hidden_state.shape == (num_layers, 1, hidden_size)\n",
    "\n",
    "    data_loader = DataLoader(\n",
    "        dataset.HeadWordDataset(\n",
    "                split_name=\"test\",\n",
    "                model_name=model_name,\n",
    "                num_layers=num_layers,\n",
    "                hidden_size=hidden_size,\n",
    "            ),\n",
    "    )\n",
    "\n",
    "    flattened_labels = []\n",
    "    flattened_preds = [[] for _ in range(num_layers)]\n",
    "        \n",
    "    for batch in data_loader:\n",
    "        hidden_states, labels = batch\n",
    "        hidden_states = rearrange(hidden_states, \"1 w l h -> l w h\")\n",
    "        hidden_states = torch.cat((root_hidden_state, hidden_states), dim=1).cuda()\n",
    "        labels = torch.tensor([0] + labels)\n",
    "        flattened_labels.extend(labels.tolist())\n",
    "        for i in range(num_layers):\n",
    "            layer_hiddeen_states = hidden_states[i]\n",
    "            distances = -torch.cdist(layer_hiddeen_states, layer_hiddeen_states, p=2)\n",
    "            mask = F.pad(torch.eye(distances.shape[0] - 1), (1, 0, 1, 0)).bool()\n",
    "            distances[mask] = float(\"-inf\")\n",
    "            preds = distances.softmax(dim=-1).argmax(dim=-1)\n",
    "            flattened_preds[i].extend(preds.tolist())\n",
    "                    \n",
    "    accuracies = [accuracy_score(flattened_labels, preds) for preds in flattened_preds]\n",
    "\n",
    "    x = list(range(num_layers))\n",
    "    y = accuracies\n",
    "\n",
    "    import matplotlib.pyplot as plt\n",
    "\n",
    "    plt.scatter(x, y)\n",
    "    plt.xlabel('Layer')\n",
    "    plt.ylabel('UAS')\n",
    "    plt.title(model_name)\n",
    "\n",
    "    plt.savefig(f\"unsupervised_plots/{model_name.replace('/', '_')}.png\")\n",
    "    plt.show()"
   ]
  },
  {
   "cell_type": "code",
   "execution_count": 24,
   "metadata": {},
   "outputs": [
    {
     "data": {
      "image/png": "[encoded data removed]",
      "text/plain": [
       "<Figure size 640x480 with 1 Axes>"
      ]
     },
     "metadata": {},
     "output_type": "display_data"
    }
   ],
   "source": []
  },
  {
   "cell_type": "code",
   "execution_count": null,
   "metadata": {},
   "outputs": [],
   "source": []
  }
 ],
 "metadata": {
  "kernelspec": {
   "display_name": "syntax",
   "language": "python",
   "name": "python3"
  },
  "language_info": {
   "codemirror_mode": {
    "name": "ipython",
    "version": 3
   },
   "file_extension": ".py",
   "mimetype": "text/x-python",
   "name": "python",
   "nbconvert_exporter": "python",
   "pygments_lexer": "ipython3",
   "version": "3.12.2"
  }
 },
 "nbformat": 4,
 "nbformat_minor": 2
}
